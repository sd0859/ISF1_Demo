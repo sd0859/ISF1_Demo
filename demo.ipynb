def is_prime(n):
    if n <= 1:
        return False
    for i in range(2, int(n**0.5)+1):
        if n % i == 0:
            return False
    return True

# Example usage
num = 29
print(f"{num} is prime: {is_prime(num)}")
